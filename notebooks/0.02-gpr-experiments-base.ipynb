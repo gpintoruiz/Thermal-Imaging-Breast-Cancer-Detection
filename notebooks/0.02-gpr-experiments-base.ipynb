{
  "cells": [
    {
      "cell_type": "markdown",
      "metadata": {
        "id": "dftDiCQg3vYy"
      },
      "source": [
        "# <font color='#4C5FDA'>**Breast Cancer Detection Based on CNNs Using Thermal Imaging** </font>\n",
        "\n",
        "Original paper by Juan Pablo Zuluaga, Zeina Al Masry, Khaled Benaggoune, Safa Meraghni & Noureddine Zerhouni: [A CNN-based methodology for breast cancer diagnosis using thermal images](https://www.tandfonline.com/doi/full/10.1080/21681163.2020.1824685)"
      ]
    },
    {
      "cell_type": "code",
      "execution_count": 1,
      "metadata": {
        "id": "zEwblwS83vY1"
      },
      "outputs": [],
      "source": [
        "#@title **Importamos librerías necesarias**\n",
        "\n",
        "# Pytorch essentials\n",
        "import torch\n",
        "import torch.nn as nn\n",
        "import torch.nn.functional as F\n",
        "\n",
        "# PyTorch torchvision\n",
        "from torchvision.transforms import v2\n",
        "\n",
        "# Pytorch essentials for datasets.\n",
        "from torch.utils.data import Dataset, DataLoader, ConcatDataset\n",
        "\n",
        "# Data manipulation\n",
        "import numpy as np\n",
        "import cv2\n",
        "import os\n",
        "import matplotlib.pyplot as plt\n",
        "\n",
        "# Utils\n",
        "from tqdm import tqdm\n",
        "from datetime import datetime"
      ]
    },
    {
      "cell_type": "markdown",
      "metadata": {
        "id": "RkrHeEps3vY3"
      },
      "source": [
        "## <font color='#ECA702'>**Configuración inicial para conectarnos con Kaggle**</font>"
      ]
    },
    {
      "cell_type": "markdown",
      "metadata": {
        "id": "CJFg6k1x3vY5"
      },
      "source": [
        "1. Instalamos kaggle. Para poder usar comandos de Kaggle."
      ]
    },
    {
      "cell_type": "code",
      "execution_count": 2,
      "metadata": {
        "colab": {
          "base_uri": "https://localhost:8080/"
        },
        "id": "hwqionQb3vY6",
        "outputId": "3d70fa3f-25b6-4998-b692-95839cca329e"
      },
      "outputs": [
        {
          "name": "stdout",
          "output_type": "stream",
          "text": [
            "Requirement already satisfied: kaggle in /usr/local/lib/python3.10/dist-packages (1.6.14)\n",
            "Requirement already satisfied: six>=1.10 in /usr/local/lib/python3.10/dist-packages (from kaggle) (1.16.0)\n",
            "Requirement already satisfied: certifi>=2023.7.22 in /usr/local/lib/python3.10/dist-packages (from kaggle) (2024.2.2)\n",
            "Requirement already satisfied: python-dateutil in /usr/local/lib/python3.10/dist-packages (from kaggle) (2.8.2)\n",
            "Requirement already satisfied: requests in /usr/local/lib/python3.10/dist-packages (from kaggle) (2.31.0)\n",
            "Requirement already satisfied: tqdm in /usr/local/lib/python3.10/dist-packages (from kaggle) (4.66.4)\n",
            "Requirement already satisfied: python-slugify in /usr/local/lib/python3.10/dist-packages (from kaggle) (8.0.4)\n",
            "Requirement already satisfied: urllib3 in /usr/local/lib/python3.10/dist-packages (from kaggle) (2.0.7)\n",
            "Requirement already satisfied: bleach in /usr/local/lib/python3.10/dist-packages (from kaggle) (6.1.0)\n",
            "Requirement already satisfied: webencodings in /usr/local/lib/python3.10/dist-packages (from bleach->kaggle) (0.5.1)\n",
            "Requirement already satisfied: text-unidecode>=1.3 in /usr/local/lib/python3.10/dist-packages (from python-slugify->kaggle) (1.3)\n",
            "Requirement already satisfied: charset-normalizer<4,>=2 in /usr/local/lib/python3.10/dist-packages (from requests->kaggle) (3.3.2)\n",
            "Requirement already satisfied: idna<4,>=2.5 in /usr/local/lib/python3.10/dist-packages (from requests->kaggle) (3.7)\n"
          ]
        }
      ],
      "source": [
        "! pip install kaggle"
      ]
    },
    {
      "cell_type": "markdown",
      "metadata": {
        "id": "hP3nl2Et3vY7"
      },
      "source": [
        "Subimos nuestro token de autenticación de Kaggle (si estamos en colab, sino colocarlo en la carpeta del proyecto)"
      ]
    },
    {
      "cell_type": "code",
      "execution_count": null,
      "metadata": {
        "id": "ARP6wZsb3vY8"
      },
      "outputs": [],
      "source": [
        "from google.colab import files\n",
        "files.upload()"
      ]
    },
    {
      "cell_type": "markdown",
      "metadata": {
        "id": "P0VPkGso3vY9"
      },
      "source": [
        "1. Creamos los directorios de Kaggle\n",
        "2. Copiamos nuestro token en .kaggle\n",
        "3. Con `chmod 600` establecemos los permitos del token en 600, es decir, que solo yo tengo permisos de lectura y escritura sobre el archivo"
      ]
    },
    {
      "cell_type": "code",
      "execution_count": 3,
      "metadata": {
        "id": "ed2nCVTu3vY-"
      },
      "outputs": [],
      "source": [
        "! mkdir ~/kaggle"
      ]
    },
    {
      "cell_type": "code",
      "execution_count": 4,
      "metadata": {
        "id": "UhQ_SI9x3vZA"
      },
      "outputs": [],
      "source": [
        "! mkdir ~/.kaggle\n",
        "! cp kaggle.json ~/.kaggle/\n",
        "! chmod 600 ~/.kaggle/kaggle.json"
      ]
    },
    {
      "cell_type": "markdown",
      "metadata": {
        "id": "vGkGIazz3vZB"
      },
      "source": [
        "## <font color='#ECA702'>**Procesamiento del dataset**</font>"
      ]
    },
    {
      "cell_type": "markdown",
      "metadata": {
        "id": "15sRg8fW3vZC"
      },
      "source": [
        "### <font color='#52F17F'>**Carga del dataset**</font>\n",
        "\n",
        "Traemos el dataset [Thermal Images for Breast Cancer Diagnosis DMR-IR](https://www.kaggle.com/datasets/asdeepak/thermal-images-for-breast-cancer-diagnosis-dmrir) desde kaggle.\n",
        "\n",
        "This dataset is a methodology for breast disease computer-aided diagnosis using dynamic thermography. The thermal images for breast tumors are classified according to DMR-IR standards.\n",
        "\n",
        "Two types of tumors are classified in this dataset one is benign another is malignant.\n",
        "- Benign: This type of tumor is usually well-defined and round or oval in shape. (non-cancerous tumor)\n",
        "- Malignant: This type of tumor is usually poorly defined and irregular with lobules. (cancerous tumor)"
      ]
    },
    {
      "cell_type": "code",
      "execution_count": null,
      "metadata": {
        "collapsed": true,
        "id": "lmT0aOvG3vZD"
      },
      "outputs": [],
      "source": [
        "! kaggle datasets download -d asdeepak/thermal-images-for-breast-cancer-diagnosis-dmrir\n",
        "! unzip thermal-images-for-breast-cancer-diagnosis-dmrir.zip"
      ]
    },
    {
      "cell_type": "markdown",
      "metadata": {
        "id": "QToIa8zB3vZE"
      },
      "source": [
        "Después de descargar los datos. Debemos entender la estructura de las carpetas para poder trabajar con ellas de una mejor manera.\n",
        "1. La carpeta principal `Imagens e Matrizes da Tese de Thiago Alves Elias da Silva` son todos los datos `data`.\n",
        "2. La carpeta `12 Novos Casos de Testes` la podemos tomar como nuestro conjunto de prueba (`test`).\n",
        "3. Mientras que la carpeta `Desenvolvimento da Metodologia` será nuestro conjunto de entrenamiento (`train`).\n",
        "\n",
        "Luego dentro de nuestras carpetas de `train` y `test` encontramos dos categorías `DOENTES`y `SAUDAтХа├╝VEIS` o SAUDÁVEI. Los primeros son los casos malignos y los segundos benignos.\n",
        "\n",
        "Dentro de cada una de las carpetas de pacientes saludables y enfermos se encuentran carpetas con números, cada número representa un paciente. Y para cada paciente tendremos dos carpetas más, una para las imágenes **segmentadas** en escala de grises y la otra para la matrix o mapa de calor.\n",
        "\n",
        "Algo bueno de este dataset es que ya está dividido por pacientes, es decir, no tendremos imagenes del mismo paciente en el conjunto de entrenamiento y testeo. Por lo tanto, vamos a entrenar con N pacientes, y testear con K pacientes, que no son los mismos."
      ]
    },
    {
      "cell_type": "markdown",
      "metadata": {
        "id": "yyk9P3bb3vZU"
      },
      "source": [
        "### <font color='#52F17F'>**Creación del Dataset PyTorch**</font>"
      ]
    },
    {
      "cell_type": "code",
      "execution_count": 2,
      "metadata": {
        "id": "-RN_VmlV3vZV"
      },
      "outputs": [],
      "source": [
        "class ThermalDataset(Dataset):\n",
        "  def __init__(self, image_dir: str, matrix_dir: str, transform = None):\n",
        "    self.image_dir = image_dir\n",
        "    self.matrix_dir = matrix_dir\n",
        "    self.transform = transform\n",
        "    self.images = os.listdir(image_dir) # Listamos todas las imagenes en la carpeta\n",
        "\n",
        "  def __len__(self):\n",
        "    return len(self.images)\n",
        "\n",
        "  def __getitem__(self, index):\n",
        "\n",
        "    \"\"\" Carga de la imagen \"\"\"\n",
        "\n",
        "    # Entramos a la carpeta y conseguimos la imagen de la lista\n",
        "    img_path = os.path.join(self.image_dir, self.images[index])\n",
        "\n",
        "    # Leemos la imagen segmentada en escala de grises\n",
        "    img = cv2.imread(img_path, cv2.IMREAD_GRAYSCALE) # uint8\n",
        "\n",
        "    \"\"\" Carga de la matrix \"\"\"\n",
        "\n",
        "    # Entramos a la carpeta y conseguimos la matrix de la lista.\n",
        "      # La razon por la que uso la misma lista de imagenes es porque la imagen y la matrix\n",
        "      # tienen el mismo nombre, solo cambia la ruta de la carpeta y la extensión.\n",
        "    \"\"\" matrizes: Imagens e Matrizes da Tese de Thiago Alves Elias da Silva/12 Novos Casos de Testes/DOENTES/256/Matrizes/PAC_62_DN0.txt \"\"\"\n",
        "    \"\"\" segmentada: Imagens e Matrizes da Tese de Thiago Alves Elias da Silva/12 Novos Casos de Testes/DOENTES/256/Segmentadas/PAC_62_DN0-dir.png \"\"\"\n",
        "    \n",
        "    if '-dir.png' in self.images[index]:\n",
        "      matrix_path = os.path.join(self.matrix_dir, self.images[index].replace(\"-dir.png\", \".txt\"))\n",
        "    elif '-esq.png' in self.images[index]:\n",
        "      matrix_path = os.path.join(self.matrix_dir, self.images[index].replace(\"-esq.png\", \".txt\"))\n",
        "      \n",
        "    matrix = np.loadtxt(matrix_path, dtype=np.float32) # https://www.geeksforgeeks.org/import-text-files-into-numpy-arrays/\n",
        "\n",
        "    \"\"\" Consigo la imagen segmentada con los valores de la matrix \"\"\"\n",
        "\n",
        "    segmented = np.where(img==0, 0, 1) # int64\n",
        "    # segmented = img * matrix\n",
        "    img = (matrix * segmented).astype(np.float32) # float32, shape (480, 640)\n",
        "\n",
        "    # Le agrego un canal explícito \n",
        "    img = np.expand_dims(img, axis=2) # https://numpy.org/doc/stable/reference/generated/numpy.expand_dims.html\n",
        "\n",
        "    # img = img / 255.\n",
        "    # Create an object for executing CLAHE.\n",
        "    # clahe = cv2.createCLAHE(clipLimit=2.0, tileGridSize=(8,8))\n",
        "    # Normalizing frame to range [0, 255], and get the result as type uint8.\n",
        "    # normed = cv2.normalize(segmented, None, 0, 255, cv2.NORM_MINMAX, cv2.CV_8U)\n",
        "    # img = clahe.apply(normed)\n",
        "\n",
        "    \"\"\" Consiguiendo el label \"\"\"\n",
        "\n",
        "    # Para conseguir la etiqueta simplemente me tengo que fijar en la ruta. Si es 'DOENTES' 1\n",
        "    # sino 0.\n",
        "\n",
        "    label = self.image_dir.split('/')[2]\n",
        "    if label == 'DOENTES':\n",
        "      label = 1\n",
        "    else:\n",
        "      label = 0\n",
        "\n",
        "    \"\"\" Convertir las imagenes en tensores y hacer resize \"\"\"\n",
        "    if self.transform:\n",
        "      # Aplicamos las transformaciones a la imagen\n",
        "      # print(type(img), img.shape)\n",
        "      img = self.transform(img)\n",
        "      \n",
        "    return img, label"
      ]
    },
    {
      "cell_type": "code",
      "execution_count": 3,
      "metadata": {
        "id": "EjaHcXfd3vZX"
      },
      "outputs": [],
      "source": [
        "TEST_PATH = \"Imagens e Matrizes da Tese de Thiago Alves Elias da Silva/12 Novos Casos de Testes\"\n",
        "TRAIN_PATH = \"Imagens e Matrizes da Tese de Thiago Alves Elias da Silva/Desenvolvimento da Metodologia\""
      ]
    },
    {
      "cell_type": "code",
      "execution_count": 4,
      "metadata": {
        "colab": {
          "base_uri": "https://localhost:8080/"
        },
        "id": "laVkmMhx3vZX",
        "outputId": "3c162169-04e5-4731-9eec-3a82299974a4"
      },
      "outputs": [
        {
          "name": "stdout",
          "output_type": "stream",
          "text": [
            "Cantidad de pacientes para testeo: 9\n",
            "Cantidad de imagenes para testeo: 240\n",
            "Cantidad de matrices para testeo: 180\n",
            "\n",
            "Cantidad de pacientes para entrenamiento: 47\n",
            "Cantidad de imagenes para entrenamiento: 1282\n",
            "Cantidad de matrices para entrenamiento: 948\n"
          ]
        }
      ],
      "source": [
        "# Primero consigo la ruta de imagenes y matrices para cada uno de los pacientes\n",
        "\n",
        "dirs_test = []\n",
        "test_images = 0\n",
        "test_matrices = 0\n",
        "for category in os.listdir(TEST_PATH):\n",
        "  # print(category)\n",
        "  for patient in os.listdir(os.path.join(TEST_PATH, category)):\n",
        "    # print(os.path.join(TEST_PATH, category, patient))\n",
        "    dirs_test.append(os.path.join(TEST_PATH, category, patient))\n",
        "    _, _, files = next(os.walk(os.path.join(TEST_PATH, category, patient, \"Segmentadas\")))\n",
        "    # print(files)\n",
        "    test_images += len(files)\n",
        "    _, _, files = next(os.walk(os.path.join(TEST_PATH, category, patient, \"Matrizes\")))\n",
        "    test_matrices += len(files)\n",
        "\n",
        "\n",
        "dirs_train = []\n",
        "train_images = 0\n",
        "train_matrices = 0\n",
        "for category in os.listdir(TRAIN_PATH):\n",
        "  # print(category)\n",
        "  for patient in os.listdir(os.path.join(TRAIN_PATH, category)):\n",
        "    # print(os.path.join(TRAIN_PATH, category, patient))\n",
        "    dirs_train.append(os.path.join(TRAIN_PATH, category, patient))\n",
        "    _, _, files = next(os.walk(os.path.join(TRAIN_PATH, category, patient, \"Segmentadas\")))\n",
        "    train_images += len(files)\n",
        "    try:\n",
        "      _, _, files = next(os.walk(os.path.join(TRAIN_PATH, category, patient, \"Matrizes\")))\n",
        "      train_matrices += len(files)\n",
        "    except:\n",
        "      _, _, files = next(os.walk(os.path.join(TRAIN_PATH, category, patient, \"Matrizes de Temperatura\")))\n",
        "      train_matrices += len(files)\n",
        "\n",
        "\n",
        "\n",
        "# Imprimo la cantidad de pacientes y datos que tenemos\n",
        "print(f\"Cantidad de pacientes para testeo: {len(dirs_test)}\")\n",
        "print(f\"Cantidad de imagenes para testeo: {test_images}\")\n",
        "print(f\"Cantidad de matrices para testeo: {test_matrices}\")\n",
        "print()\n",
        "print(f\"Cantidad de pacientes para entrenamiento: {len(dirs_train)}\")\n",
        "print(f\"Cantidad de imagenes para entrenamiento: {train_images}\")\n",
        "print(f\"Cantidad de matrices para entrenamiento: {train_matrices}\")"
      ]
    },
    {
      "cell_type": "markdown",
      "metadata": {
        "id": "ZPz3tqLJ3vZY"
      },
      "source": [
        "En teoría por cada paciente tenemos 20 imagenes, pero las cuentas no cuadran, por ejemplo en testeo deberíamos tener 9x20 = 180 imagenes, pero aparecen 240. Esto sucede debido a que hay algunas imagenes que están separadas en la parte izquierda y derecha.\n",
        "\n",
        "Para el conjunto de entrenamiento tampoco cuadra el número de matrices. Esto es debido a que algunos pacientes tienen una matriz que se llama `ESTATICO` que no tengo ni idea para qué es pero no es problema ya que no hace 'match' con ninguna imágen."
      ]
    },
    {
      "cell_type": "code",
      "execution_count": 5,
      "metadata": {
        "id": "H4PvzY2RS6Tc"
      },
      "outputs": [
        {
          "name": "stdout",
          "output_type": "stream",
          "text": [
            "Las imagenes son reescaladas a 300x400\n"
          ]
        }
      ],
      "source": [
        "# Todas las imagenes vienen en h: 480, w: 640. El objetivo es disminuir el tamaño\n",
        "# sin perder la relación de aspecto. https://gist.github.com/tomvon/ae288482869b495201a0\n",
        "\n",
        "HEIGHT = 300\n",
        "r = HEIGHT/480 # Calculo la relación de aspecto. \n",
        "WIDTH = int(640*r)\n",
        "print(f\"Las imagenes son reescaladas a {HEIGHT}x{WIDTH}\")\n",
        "\n",
        "# https://pytorch.org/vision/main/transforms.html#performance-considerations\n",
        "transform = v2.Compose([  \n",
        "    v2.ToImage(), \n",
        "    v2.Resize(size=(HEIGHT, WIDTH), antialias=True), \n",
        "    # v2.ToDtype(torch.float32),\n",
        "    #  transforms.Normalize((0.5, 0.5, 0.5), (0.5, 0.5, 0.5))\n",
        "])"
      ]
    },
    {
      "cell_type": "markdown",
      "metadata": {
        "id": "ZkcLPrFtWs-S"
      },
      "source": [
        "Para cada paciente armo un dataset y luego con `ConcatDataset` junto todos los pacientes para entrenamiento y para testeo."
      ]
    },
    {
      "cell_type": "code",
      "execution_count": 6,
      "metadata": {
        "id": "3qRjE86mB5bO"
      },
      "outputs": [],
      "source": [
        "test_datasets = []\n",
        "for patient in dirs_test:\n",
        "  folders = sorted(os.listdir(patient))\n",
        "  # print(folders)\n",
        "  test_datasets.append(ThermalDataset(f\"{patient}/{folders[1]}\", f\"{patient}/{folders[0]}\", transform=transform))\n",
        "\n",
        "train_datasets = []\n",
        "for patient in dirs_train:\n",
        "  folders = sorted(os.listdir(patient))\n",
        "  # print(folders)\n",
        "  train_datasets.append(ThermalDataset(f\"{patient}/{folders[1]}\", f\"{patient}/{folders[0]}\", transform=transform))\n",
        "\n",
        "# Datasets (concatenate) https://stackoverflow.com/questions/60840500/pytorch-concatenating-datasets-before-using-dataloader\n",
        "test_dataset = torch.utils.data.ConcatDataset(test_datasets)\n",
        "train_dataset = torch.utils.data.ConcatDataset(train_datasets)"
      ]
    },
    {
      "cell_type": "code",
      "execution_count": 7,
      "metadata": {},
      "outputs": [
        {
          "name": "stdout",
          "output_type": "stream",
          "text": [
            "torch.Size([1, 300, 400]) <class 'int'>\n"
          ]
        }
      ],
      "source": [
        "print(test_dataset[0][0].shape, type(test_dataset[0][1]))"
      ]
    },
    {
      "cell_type": "markdown",
      "metadata": {
        "id": "ikyFIUY1NrXi"
      },
      "source": [
        "## <font color='#ECA702'>**Modelo CNN**</font>"
      ]
    },
    {
      "cell_type": "markdown",
      "metadata": {},
      "source": [
        "### <font color='#52F17F'>**Creando el modelo**</font>"
      ]
    },
    {
      "cell_type": "code",
      "execution_count": 8,
      "metadata": {
        "id": "zvkND1_OKHxu"
      },
      "outputs": [],
      "source": [
        "# Este el modelo de ejemplo que usan aquí: https://pytorch.org/tutorials/beginner/blitz/cifar10_tutorial.html\n",
        "\n",
        "class Net(nn.Module):\n",
        "    def __init__(self):\n",
        "        super().__init__()\n",
        "        self.conv1 = nn.Conv2d(1, 6, 5)\n",
        "        self.pool = nn.MaxPool2d(2, 2)\n",
        "        self.conv2 = nn.Conv2d(6, 16, 5)\n",
        "\n",
        "        # Los parametros de esta capa dependen de la salida de la convolución anterior\n",
        "        self.fc1 = nn.Linear(16 * 72 * 97, 120)\n",
        "        self.fc2 = nn.Linear(120, 84)\n",
        "\n",
        "        # El 2 es porque tenemos dos clases y vamos a usar Cross Entropy Loss\n",
        "        self.fc3 = nn.Linear(84, 2) \n",
        "        \n",
        "\n",
        "    def forward(self, x):\n",
        "        x = self.pool(F.relu(self.conv1(x)))\n",
        "        x = self.pool(F.relu(self.conv2(x)))\n",
        "        x = torch.flatten(x, 1) # flatten all dimensions except batch\n",
        "        x = F.relu(self.fc1(x))\n",
        "        x = F.relu(self.fc2(x))\n",
        "        x = self.fc3(x)\n",
        "        return x"
      ]
    },
    {
      "cell_type": "code",
      "execution_count": 9,
      "metadata": {},
      "outputs": [
        {
          "name": "stdout",
          "output_type": "stream",
          "text": [
            "Entrada: (torch.Size([1, 1, 300, 400]), {torch.float32})\n",
            "Salida: (torch.Size([1, 2]), torch.float32)\n"
          ]
        }
      ],
      "source": [
        "# Test al modelo, para ver si nos entrega la salida esperada\n",
        "\n",
        "input_image = train_dataset[0][0].unsqueeze(0)\n",
        "print(f\"Entrada: {input_image.size(), {input_image.dtype}}\")\n",
        "model = Net()\n",
        "ouput = model(input_image)\n",
        "print(f\"Salida: {ouput.size(), ouput.dtype}\") # Esperado: [1, 2] (batch 1, 2 clases)"
      ]
    },
    {
      "cell_type": "markdown",
      "metadata": {},
      "source": [
        "### <font color='#52F17F'>**Entrenamiento del modelo**</font>"
      ]
    },
    {
      "cell_type": "code",
      "execution_count": 10,
      "metadata": {
        "id": "An27UN3oKbAB"
      },
      "outputs": [],
      "source": [
        "# Hiperparametros\n",
        "LEARNING_RATE = 1e-4\n",
        "# Establecemos el tipo de arquitectura que va a entrenar el modelo.\n",
        "DEVICE = \"cuda\" if torch.cuda.is_available() else \"cpu\"\n",
        "BATCH_SIZE = 4"
      ]
    },
    {
      "cell_type": "code",
      "execution_count": 11,
      "metadata": {},
      "outputs": [
        {
          "name": "stdout",
          "output_type": "stream",
          "text": [
            "len train: 321\n",
            "len test: 60\n"
          ]
        }
      ],
      "source": [
        "# Dataloaders\n",
        "train_loader = DataLoader(train_dataset, BATCH_SIZE, shuffle=True)\n",
        "test_loader = DataLoader(test_dataset, BATCH_SIZE, shuffle=True)\n",
        "print(f'len train: {len(train_loader)}')\n",
        "print(f'len test: {len(test_loader)}')"
      ]
    },
    {
      "cell_type": "code",
      "execution_count": 12,
      "metadata": {
        "id": "zD-IC0xLJ6p7"
      },
      "outputs": [],
      "source": [
        "\"\"\" Parametros del modelo \"\"\"\n",
        "\n",
        "# Creacion del modelo y lo movemos a la GPU o CPU\n",
        "model = Net()\n",
        "model.to(DEVICE)\n",
        "\n",
        "# Funcion de perdida (loss)\n",
        "criterion = nn.CrossEntropyLoss()\n",
        "\n",
        "# Algoritmos de optimización del gradiente. DESPUÉS de mover el modelo a la GPU.\n",
        "optimizer = torch.optim.Adam(model.parameters(), lr=LEARNING_RATE)"
      ]
    },
    {
      "cell_type": "code",
      "execution_count": 13,
      "metadata": {},
      "outputs": [],
      "source": [
        "\"\"\" Para guardar datos del modelo cada vez que cambiemos los parametros \"\"\"\n",
        "\n",
        "# Se inicializa en una celda separada, así podemos añadir facilmente epocas al mismo run\n",
        "timestamp = datetime.now().strftime('%Y%m%d_%H%M%S')\n",
        "\n",
        "# Crear la carpeta models por si no existe\n",
        "if os.path.exists('models') == False:\n",
        "    os.mkdir(\"models\")\n",
        "    \n",
        "model_folder_path = f'models/breast_model_{timestamp}'\n",
        "# model_folder = os.mkdir(model_folder_path)\n",
        "epoch_number = 0"
      ]
    },
    {
      "cell_type": "code",
      "execution_count": 15,
      "metadata": {
        "colab": {
          "base_uri": "https://localhost:8080/",
          "height": 391
        },
        "id": "tqbPjYGhKvlc",
        "outputId": "7251e7e2-090b-427f-937f-c33a66691847"
      },
      "outputs": [
        {
          "name": "stdout",
          "output_type": "stream",
          "text": [
            "EPOCH 2\n"
          ]
        },
        {
          "name": "stderr",
          "output_type": "stream",
          "text": [
            " 31%|███▏      | 101/321 [00:11<00:26,  8.24it/s]"
          ]
        },
        {
          "name": "stdout",
          "output_type": "stream",
          "text": [
            "batch   100 loss: 0.108\n"
          ]
        },
        {
          "name": "stderr",
          "output_type": "stream",
          "text": [
            " 63%|██████▎   | 201/321 [00:23<00:13,  8.72it/s]"
          ]
        },
        {
          "name": "stdout",
          "output_type": "stream",
          "text": [
            "batch   200 loss: 0.085\n"
          ]
        },
        {
          "name": "stderr",
          "output_type": "stream",
          "text": [
            " 94%|█████████▍| 301/321 [00:35<00:02,  8.62it/s]"
          ]
        },
        {
          "name": "stdout",
          "output_type": "stream",
          "text": [
            "batch   300 loss: 0.076\n"
          ]
        },
        {
          "name": "stderr",
          "output_type": "stream",
          "text": [
            "100%|██████████| 321/321 [00:37<00:00,  8.45it/s]"
          ]
        },
        {
          "name": "stdout",
          "output_type": "stream",
          "text": [
            "Finished Training\n"
          ]
        },
        {
          "name": "stderr",
          "output_type": "stream",
          "text": [
            "\n"
          ]
        }
      ],
      "source": [
        "EPOCHS = 1\n",
        "\n",
        "for epoch in range(EPOCHS):  # loop over the dataset multiple times\n",
        "    print(f\"EPOCH {epoch_number + 1}\")\n",
        "\n",
        "    running_loss = 0.0\n",
        "    for i, data in enumerate(tqdm(train_loader, 0)):\n",
        "        # get the inputs; data is a list of [inputs, labels]\n",
        "        inputs, labels = data\n",
        "\n",
        "        # Movemos los datos al device\n",
        "        inputs = inputs.to(DEVICE)\n",
        "        labels = labels.to(DEVICE)\n",
        "\n",
        "        # zero the parameter gradients\n",
        "        optimizer.zero_grad()\n",
        "\n",
        "        # forward + backward + optimize\n",
        "        outputs = model(inputs)\n",
        "        # print(ouputs.dtype)\n",
        "        loss = criterion(outputs, labels)\n",
        "        loss.backward()\n",
        "        optimizer.step()\n",
        "\n",
        "        # print statistics\n",
        "        running_loss += loss.item()\n",
        "        if i % 100 == 99:    # print every 100 mini-batches\n",
        "            print(f'batch {i + 1:5d} loss: {running_loss / 100:.3f}')\n",
        "            running_loss = 0.0\n",
        "    epoch_number += 1 # Pasamos a la siguiente época\n",
        "print('Finished Training')"
      ]
    },
    {
      "cell_type": "markdown",
      "metadata": {},
      "source": [
        "### <font color='#52F17F'>**Guardar el modelo**</font>"
      ]
    },
    {
      "cell_type": "code",
      "execution_count": 16,
      "metadata": {},
      "outputs": [],
      "source": [
        "def save_checkpoint(state, filename=f'model_{timestamp}.pth'):\n",
        "  print(\"=> Saving model\")\n",
        "  torch.save(state, filename)\n",
        "  print(\"Model saved in\", filename)"
      ]
    },
    {
      "cell_type": "code",
      "execution_count": 17,
      "metadata": {},
      "outputs": [
        {
          "name": "stdout",
          "output_type": "stream",
          "text": [
            "=> Saving model\n",
            "Model saved in models/breast_model_20240524_112900_2.pth\n"
          ]
        }
      ],
      "source": [
        "# Establecemos la ruta donde se va a guardar el estado del modelo\n",
        "model_path = f\"{model_folder_path}_{epoch_number}.pth\"\n",
        "\n",
        "# Guardamos el estado del modelo\n",
        "checkpoint = {'state_dict': model.state_dict(),\n",
        "              'optimizer': optimizer.state_dict(),\n",
        "              'epoch': epoch_number + 1}\n",
        "\n",
        "save_checkpoint(checkpoint, model_path)"
      ]
    },
    {
      "cell_type": "markdown",
      "metadata": {},
      "source": [
        "## <font color='#ECA702'>**Evaluación del modelo**</font>"
      ]
    },
    {
      "cell_type": "markdown",
      "metadata": {},
      "source": [
        "### <font color='#52F17F'>**Carga un modelo para hacer inferencia o conseguir sus métricas.**</font>"
      ]
    },
    {
      "cell_type": "code",
      "execution_count": 19,
      "metadata": {},
      "outputs": [
        {
          "name": "stdout",
          "output_type": "stream",
          "text": [
            "=> Loading model\n",
            "Modelo cargado exitosamente.\n"
          ]
        }
      ],
      "source": [
        "print('=> Loading model')\n",
        "checkpoint = torch.load(\"models/breast_model_20240524_112900_2.pth\") # Ruta donde está el modelo\n",
        "\n",
        "# Si el diccionario tiene la clave 'state_dict', significa que NO viene solo el modelo\n",
        "if 'state_dict' in checkpoint:\n",
        "  model.load_state_dict(checkpoint['state_dict'])\n",
        "  print(\"Modelo cargado exitosamente.\")\n",
        "else:\n",
        "  # Si viene solo el modelo\n",
        "  model.load_state_dict(checkpoint)\n",
        "\n",
        "model.to(DEVICE)\n",
        "# Apagamos el modo entrenamiento. Es equivalente a model.train(False)\n",
        "model.eval()\n",
        "# Para verificar si mi modelo está en modo entrenamiento\n",
        "if model.training:\n",
        "    print('El modelo ha sido cargado con training off exitosamente.')"
      ]
    },
    {
      "cell_type": "markdown",
      "metadata": {},
      "source": [
        "### <font color='#52F17F'>**Display any images from test for inference**</font>"
      ]
    },
    {
      "cell_type": "code",
      "execution_count": 20,
      "metadata": {},
      "outputs": [],
      "source": [
        "def visualize_images(testloader, rows=3, cols=3):\n",
        "    \"\"\"\n",
        "    Visualiza imágenes de un tensor junto con sus etiquetas.\n",
        "\n",
        "    Args:\n",
        "        images (torch.Tensor): Tensor de imágenes de tamaño [N, C, H, W].\n",
        "        labels (torch.Tensor): Tensor de etiquetas correspondiente a las imágenes.\n",
        "        rows (int): Número de filas en la cuadrícula de visualización.\n",
        "        cols (int): Número de columnas en la cuadrícula de visualización.\n",
        "\n",
        "    Returns:\n",
        "        None: Muestra una figura con las imágenes y sus etiquetas.\n",
        "    \"\"\"\n",
        "\n",
        "    dataiter = iter(testloader)\n",
        "    images, labels = next(dataiter)\n",
        "\n",
        "    plt.figure(figsize=(30, rows * 4))\n",
        "    breast_types = {0: 'Benign', 1: 'Malignant'}\n",
        "\n",
        "    # Seleccionar índices aleatorios del tensor\n",
        "    indices = np.random.choice(images.shape[0], rows * cols, replace=False)\n",
        "\n",
        "    for i, idx in enumerate(indices, start=1):\n",
        "        img = images[idx].squeeze(0).numpy()  # Extraer la imagen y eliminar dimensiones singleton si es necesario\n",
        "        label = labels[idx].item()  # Extraer la etiqueta y convertir a entero\n",
        "\n",
        "        # Configurar la posición del subplot\n",
        "        plt.subplot(rows, cols, i)\n",
        "        plt.imshow(img, cmap='inferno')\n",
        "        plt.title(f\"{breast_types[label]}\")\n",
        "        plt.colorbar()\n",
        "    plt.show()\n",
        "    del dataiter\n",
        "    return images, labels"
      ]
    },
    {
      "cell_type": "code",
      "execution_count": 21,
      "metadata": {},
      "outputs": [
        {
          "data": {
            "image/png": "[encoded data removed]",
            "text/plain": [
              "<Figure size 2160x288 with 8 Axes>"
            ]
          },
          "metadata": {
            "needs_background": "light"
          },
          "output_type": "display_data"
        }
      ],
      "source": [
        "images, labels = visualize_images(test_loader, rows=1, cols=4)"
      ]
    },
    {
      "cell_type": "code",
      "execution_count": 22,
      "metadata": {},
      "outputs": [
        {
          "name": "stdout",
          "output_type": "stream",
          "text": [
            "Predicted:  Benign Benign Benign Benign\n"
          ]
        }
      ],
      "source": [
        "classes = ('Benign', 'Malignant')\n",
        "\n",
        "images, labels = images.to(DEVICE), labels.to(DEVICE)\n",
        "outputs = model(images)\n",
        "_, predicted = torch.max(outputs, 1)\n",
        "\n",
        "print('Predicted: ', ' '.join(f'{classes[predicted[j]]:5s}' for j in range(4)))"
      ]
    },
    {
      "cell_type": "markdown",
      "metadata": {},
      "source": [
        "### <font color='#52F17F'>**Métricas del modelo**</font>"
      ]
    },
    {
      "cell_type": "code",
      "execution_count": 23,
      "metadata": {},
      "outputs": [
        {
          "name": "stderr",
          "output_type": "stream",
          "text": [
            "libpng warning: bKGD: invalid\n",
            "libpng warning: bKGD: invalid\n",
            "libpng warning: bKGD: invalid\n",
            "libpng warning: bKGD: invalid\n",
            "libpng warning: bKGD: invalid\n",
            "libpng warning: bKGD: invalid\n"
          ]
        },
        {
          "name": "stdout",
          "output_type": "stream",
          "text": [
            "Accuracy of the network on the 240 test images: 46 %\n"
          ]
        },
        {
          "name": "stderr",
          "output_type": "stream",
          "text": [
            "libpng warning: bKGD: invalid\n"
          ]
        }
      ],
      "source": [
        "correct = 0\n",
        "total = 0\n",
        "# since we're not training, we don't need to calculate the gradients for our outputs\n",
        "with torch.no_grad():\n",
        "    for data in test_loader:\n",
        "        images, labels = data\n",
        "        images, labels = images.to(DEVICE), labels.to(DEVICE)\n",
        "\n",
        "        # calculate outputs by running images through the network\n",
        "        outputs = model(images)\n",
        "        # the class with the highest energy is what we choose as prediction\n",
        "        _, predicted = torch.max(outputs.data, 1)\n",
        "        total += labels.size(0)\n",
        "        correct += (predicted == labels).sum().item()\n",
        "\n",
        "print(f'Accuracy of the network on the {test_images} test images: {100 * correct // total} %')\n"
      ]
    }
  ],
  "metadata": {
    "colab": {
      "provenance": []
    },
    "kernelspec": {
      "display_name": "Python 3",
      "language": "python",
      "name": "python3"
    },
    "language_info": {
      "codemirror_mode": {
        "name": "ipython",
        "version": 3
      },
      "file_extension": ".py",
      "mimetype": "text/x-python",
      "name": "python",
      "nbconvert_exporter": "python",
      "pygments_lexer": "ipython3",
      "version": "3.10.12"
    }
  },
  "nbformat": 4,
  "nbformat_minor": 0
}
